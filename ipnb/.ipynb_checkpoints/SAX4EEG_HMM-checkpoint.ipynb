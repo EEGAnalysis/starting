{
 "cells": [
  {
   "cell_type": "code",
   "execution_count": 4,
   "metadata": {
    "collapsed": false
   },
   "outputs": [],
   "source": [
    "%matplotlib inline\n",
    "import numpy as np\n",
    "import pandas as pd\n",
    "import matplotlib.pyplot as plt\n",
    "import sys\n",
    "import ghmm\n",
    "from scipy.stats import norm\n",
    "from collections import Counter\n",
    "from itertools import permutations\n",
    "sys.path.append(\"..\")\n",
    "from script.static_SAX import znormalization,paa_transform,sax_transform"
   ]
  },
  {
   "cell_type": "markdown",
   "metadata": {},
   "source": [
    "## A basic filtering function"
   ]
  },
  {
   "cell_type": "code",
   "execution_count": 59,
   "metadata": {
    "collapsed": true
   },
   "outputs": [],
   "source": [
    "def clean_outlier(column, threshold = 3):\n",
    "    mean_column = column.mean()\n",
    "    std_column = column.std()\n",
    "    column[column > mean_column+threshold*std_column] = mean_column+3*std_column\n",
    "    column[column < mean_column-threshold*std_column] = mean_column-3*std_column\n",
    "    return column"
   ]
  },
  {
   "cell_type": "markdown",
   "metadata": {},
   "source": [
    "# First studies of EEG signals \n",
    "In order to do some initial analysis of EEG signals we download the UCI [EEG Eye State Data Set](https://archive.ics.uci.edu/ml/datasets/EEG+Eye+State#). \n",
    "\n",
    "+ Dataset obtained from a continuous EEG measurement.\n",
    "+ EEG technology used: `Emotiv EEG Neuroheadset`. \n",
    "+ Duration: 117 seconds. \n",
    "+ Last column: Eye state detected using a camera and added manually. (1: eye-closed, 0: eye-opened)\n",
    "+ Values in chronological order (from the top to the bottom of the dataset)\n",
    "+ Since the dataset contains 14980 points, the frequency of measures is of 128 points per second, which is close to 10 times the [frequency of Beta wave](http://emedicine.medscape.com/article/1139332-overview#a2). "
   ]
  },
  {
   "cell_type": "markdown",
   "metadata": {},
   "source": [
    "## Parameters of the SAX method"
   ]
  },
  {
   "cell_type": "code",
   "execution_count": 60,
   "metadata": {
    "collapsed": true
   },
   "outputs": [],
   "source": [
    "n_pieces = 1500\n",
    "alphabet_sz = 30"
   ]
  },
  {
   "cell_type": "markdown",
   "metadata": {},
   "source": [
    "## Load the dataset and apply the SAX method to get a vector of discrete emission as done previously"
   ]
  },
  {
   "cell_type": "code",
   "execution_count": 47,
   "metadata": {
    "collapsed": false
   },
   "outputs": [],
   "source": [
    "eeg = pd.read_csv(\"../data/EEG_Eye_State.arff\",comment=\"@\",header=None)\n",
    "Y = eeg[eeg.columns[-1]]\n",
    "X = eeg.drop(eeg.columns[-1],1)\n",
    "X = X.apply(clean_outlier)\n",
    "z_eeg = znormalization(X)\n",
    "split_eeg = paa_transform(z_eeg, n_pieces)\n",
    "sax_eeg = sax_transform(X, n_pieces, alphabet_sz, False)\n",
    "y_emissions = np.asarray(map(lambda xs: xs.max(axis = 0), np.array_split(Y, n_pieces)))"
   ]
  },
  {
   "cell_type": "markdown",
   "metadata": {},
   "source": [
    "# First HMM model\n",
    "## Computing the HMM probabilities\n",
    "The function hereafter takes a sequence of emissions, a sequence of labels (the hidden states), the alphabet of emission, the alphabet of labels and the order of the markovian model and outputs the transition matrix between the Hidden States and the Emission Probability Vector for each hidden state. "
   ]
  },
  {
   "cell_type": "code",
   "execution_count": 63,
   "metadata": {
    "collapsed": false
   },
   "outputs": [],
   "source": [
    "def compute_hmm_probabilities(emissions, labels, alphabet_emissions, alphabet_labels, hmm_order):\n",
    "    hidden_states_transition_matrix = np.zeros((alphabet_labels.size,alphabet_labels.size))\n",
    "    emission_counters = [Counter() for hidden_state in alphabet_labels]\n",
    "    pairs_labels = zip(labels, labels[1:])\n",
    "    tuples_emissions = zip(*(emissions[i:] for i in range(hmm_order)))\n",
    "    current_hidden_state = pairs_labels[0][0]\n",
    "    # fill counter with zeros\n",
    "    tuples_emissions_alphabet = list(permutations(alphabet_emissions,hmm_order))\n",
    "    for i,emission_counter in enumerate(emission_counters):\n",
    "        for tuple_emission in tuples_emissions_alphabet:\n",
    "            emission_counters[i][tuple_emission] = 0\n",
    "    # fill counter with more values\n",
    "    total_emissions = 0\n",
    "    for i,label_pair in enumerate(pairs_labels):\n",
    "        hidden_states_transition_matrix[label_pair[0],label_pair[1]] += 1\n",
    "        if label_pair[0] != label_pair[1]:\n",
    "            current_hidden_state = label_pair[1]\n",
    "        else:\n",
    "            emission_tuple = tuples_emissions[i]\n",
    "            emission_counters[int(current_hidden_state)][emission_tuple] += 1\n",
    "            total_emissions += 1\n",
    "    # convert emisssion counters into emission vectors and normalize\n",
    "    emission_vectors = [[emission_counters[int(hidden_state)][tuple_emission]*1./total_emissions for tuple_emission in tuples_emissions_alphabet] for hidden_state in alphabet_labels]\n",
    "    hidden_states_transition_matrix *= 1./hidden_states_transition_matrix.sum()\n",
    "    return emission_vectors,hidden_states_transition_matrix"
   ]
  },
  {
   "cell_type": "markdown",
   "metadata": {},
   "source": [
    "## Creating a HMM model using the ghmm library"
   ]
  },
  {
   "cell_type": "code",
   "execution_count": 64,
   "metadata": {
    "collapsed": false
   },
   "outputs": [],
   "source": [
    "eeg_id = 1\n",
    "emissions = sax_eeg[:,eeg_id]\n",
    "labels = y_emissions\n",
    "alphabet_labels = np.unique(labels)\n",
    "alphabet_emissions = np.unique(emissions)\n",
    "alphabet = ghmm.IntegerRange(0,alphabet_emissions.size)\n",
    "hmm_order = 1\n",
    "emissions_probabilities,hidden_states_transition_matrix = compute_hmm_probabilities(emissions, labels, alphabet_emissions, alphabet_labels, hmm_order)\n",
    "initial_conditions = [0.5,0.5]\n",
    "m = ghmm.HMMFromMatrices(alphabet, \n",
    "                         ghmm.DiscreteDistribution(alphabet),\n",
    "                         hidden_states_transition_matrix,\n",
    "                         emissions_probabilities,\n",
    "                         initial_conditions)\n",
    "#m.baumWelch(ghmm.EmissionSequence(alphabet,list(sax_eeg[:,eeg_id])))"
   ]
  },
  {
   "cell_type": "code",
   "execution_count": 56,
   "metadata": {
    "collapsed": false
   },
   "outputs": [
    {
     "data": {
      "text/plain": [
       "<ghmm.DiscreteEmissionHMM at 0x1179ff510>"
      ]
     },
     "execution_count": 56,
     "metadata": {},
     "output_type": "execute_result"
    }
   ],
   "source": [
    "m"
   ]
  },
  {
   "cell_type": "code",
   "execution_count": null,
   "metadata": {
    "collapsed": true
   },
   "outputs": [],
   "source": []
  }
 ],
 "metadata": {
  "anaconda-cloud": {},
  "kernelspec": {
   "display_name": "Python [Root]",
   "language": "python",
   "name": "Python [Root]"
  },
  "language_info": {
   "codemirror_mode": {
    "name": "ipython",
    "version": 2
   },
   "file_extension": ".py",
   "mimetype": "text/x-python",
   "name": "python",
   "nbconvert_exporter": "python",
   "pygments_lexer": "ipython2",
   "version": "2.7.12"
  }
 },
 "nbformat": 4,
 "nbformat_minor": 0
}
