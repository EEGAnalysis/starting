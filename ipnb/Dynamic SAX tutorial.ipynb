{
 "cells": [
  {
   "cell_type": "code",
   "execution_count": 1,
   "metadata": {
    "collapsed": true
   },
   "outputs": [],
   "source": [
    "%matplotlib inline"
   ]
  },
  {
   "cell_type": "markdown",
   "metadata": {},
   "source": [
    "# Dynamic SAX tutorial\n",
    "We assume there that you already know what is a SAX transformation. If you don't, please refer to our [section about it](https://timeseriesanalysis.github.io/static_sax.html) or on our [tutorial](https://timeseriesanalysis.github.io/static_sax_tutorial.html).\n",
    "The aim of this tutorial is to show how works our algorithm on simple dynamic data first and then on dynamic EEG data.\n",
    "The following examples are leaning on __incremental_SAX__ file in __script__ folder of our repository."
   ]
  },
  {
   "cell_type": "code",
   "execution_count": 2,
   "metadata": {
    "collapsed": false
   },
   "outputs": [],
   "source": [
    "import numpy as np\n",
    "import matplotlib.pyplot as plt\n",
    "import sys\n",
    "from scipy.stats import norm\n",
    "sys.path.append(\"..\")\n",
    "from script.incremental_SAX import Incremental_SAX"
   ]
  },
  {
   "cell_type": "code",
   "execution_count": null,
   "metadata": {
    "collapsed": true
   },
   "outputs": [],
   "source": []
  }
 ],
 "metadata": {
  "kernelspec": {
   "display_name": "Python 2",
   "language": "python",
   "name": "python2"
  },
  "language_info": {
   "codemirror_mode": {
    "name": "ipython",
    "version": 2
   },
   "file_extension": ".py",
   "mimetype": "text/x-python",
   "name": "python",
   "nbconvert_exporter": "python",
   "pygments_lexer": "ipython2",
   "version": "2.7.12"
  }
 },
 "nbformat": 4,
 "nbformat_minor": 2
}
