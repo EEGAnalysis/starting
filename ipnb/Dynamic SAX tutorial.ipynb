{
 "cells": [
  {
   "cell_type": "code",
   "execution_count": 1,
   "metadata": {
    "collapsed": true,
    "deletable": true,
    "editable": true
   },
   "outputs": [],
   "source": [
    "%matplotlib inline"
   ]
  },
  {
   "cell_type": "markdown",
   "metadata": {
    "deletable": true,
    "editable": true
   },
   "source": [
    "# Dynamic SAX tutorial\n",
    "We assume there that you already know what is a SAX transformation. If you don't, please refer to our [section about it](https://timeseriesanalysis.github.io/static_sax.html) or on our [tutorial](https://timeseriesanalysis.github.io/static_sax_tutorial.html).\n",
    "The aim of this tutorial is to show how works our algorithm on simple dynamic data first and then on dynamic EEG data.\n",
    "The following examples are leaning on __incremental_SAX__ file in __script__ folder of our repository."
   ]
  },
  {
   "cell_type": "code",
   "execution_count": 2,
   "metadata": {
    "collapsed": false,
    "deletable": true,
    "editable": true
   },
   "outputs": [],
   "source": [
    "import numpy as np\n",
    "import matplotlib.pyplot as plt\n",
    "import sys\n",
    "from scipy.stats import norm\n",
    "sys.path.append(\"..\")\n",
    "from script.dynamic_SAX import Dynamic_SAX\n",
    "from bisect import insort_left as sinsert\n",
    "from bisect import bisect_left as sindex"
   ]
  },
  {
   "cell_type": "markdown",
   "metadata": {
    "collapsed": true,
    "deletable": true,
    "editable": true
   },
   "source": [
    "# DYNAMIC SAX ON SIMPLE DATA\n",
    "We are going to use here the same non realistic data than in the static version's tutorial. Just to remind what they look like we will plot again our simple time series."
   ]
  },
  {
   "cell_type": "code",
   "execution_count": 3,
   "metadata": {
    "collapsed": false,
    "deletable": true,
    "editable": true
   },
   "outputs": [
    {
     "data": {
      "text/plain": [
       "[<matplotlib.lines.Line2D at 0x7f107d681350>]"
      ]
     },
     "execution_count": 3,
     "metadata": {},
     "output_type": "execute_result"
    },
    {
     "data": {
      "image/png": "[encoded data removed]",
      "text/plain": [
       "<matplotlib.figure.Figure at 0x7f107d681310>"
      ]
     },
     "metadata": {},
     "output_type": "display_data"
    }
   ],
   "source": [
    "data1 = np.asarray([2.02, 2.33, 2.99, 6.85, 9.20, 8.80, 7.50, 6.00, 5.85, 3.85, 4.85, 3.85, 2.22, 1.45, 1.34, 1.42, 3.68, 5.65, 4.23, 6.81])\n",
    "data2 = np.asarray([0.50, 1.29, 2.58, 3.83, 3.25, 4.25, 3.83, 5.63, 6.44, 6.25, 8.75, 8.83, 3.25, 0.75, 0.72, 1.02, 4.56, 3.21, 5.51, 4.95])\n",
    "time_series = np.asarray([data1,data2])\n",
    "plt.plot(range(time_series.shape[1]),time_series[0,:])\n",
    "plt.plot(range(time_series.shape[1]),time_series[1,:])"
   ]
  },
  {
   "cell_type": "markdown",
   "metadata": {},
   "source": [
    "We are here choosing the same alphabet and the same parameters than in the other SAX tutorial. Just to compare the results given by this approach.\n",
    "Let examine all the steps needed to initialize our algorithm."
   ]
  },
  {
   "cell_type": "code",
   "execution_count": 4,
   "metadata": {
    "collapsed": false
   },
   "outputs": [],
   "source": [
    "alphabet = range(10)\n",
    "alphabet_size = len(alphabet)\n",
    "nb_interval = 10\n",
    "length_interval = 2\n",
    "window_size = nb_interval * length_interval\n",
    "window = time_series[:,:window_size].T                                                \n",
    "sorted_distribution = np.sort(window, axis = 0, kind = 'mergesort')\n",
    "index_oldest = 0                                                                                     \n",
    "global_mean = window.mean(axis = 0)                                          \n",
    "global_variance = window.var(axis = 0)\n",
    "percentils_index = map(lambda x : (int(x),x%1), [1.*i * (window_size - 1) / alphabet_size for i in xrange(1, alphabet_size)])"
   ]
  },
  {
   "cell_type": "markdown",
   "metadata": {},
   "source": [
    "So what did we do so far ? \n",
    "\n",
    "Well, we stored our data, compute mean and var on a numpy array and compute percentils index.\n",
    "As a matter of fact, instead of using the function _np.percentil_ each time we use a tip. Since percentils are just numbers belonging to the serie (or interpolated value between two values), we stored the current sorted current distribution to compute faster the percentils and take all the $i^e$ $\\frac{window\\_size - 1}{N}$ value as percentils.\n",
    "\n",
    "We need here, to normalize data for the same reason mentioned in the previous tutorial but we need to apply it also to the sorted distribution to obtain proper percentils."
   ]
  },
  {
   "cell_type": "code",
   "execution_count": 5,
   "metadata": {
    "collapsed": false
   },
   "outputs": [],
   "source": [
    "window = (window - global_mean) / np.sqrt(global_variance)\n",
    "sorted_distribution  = (sorted_distribution - global_mean) / np.sqrt(global_variance)\n",
    "percentils = [[(sorted_distribution[i + 1][k] * j + sorted_distribution[i][k] * (1 - j)) for i, j in percentils_index] for k in xrange(window.shape[1])]\n",
    "subwin_means = np.asarray(map(lambda xs: xs.mean(axis = 0), np.vsplit(window, nb_interval)))\n",
    "SAX = np.zeros(subwin_means.shape)\n",
    "sorted_distribution = sorted_distribution.T.tolist()"
   ]
  },
  {
   "cell_type": "markdown",
   "metadata": {},
   "source": [
    "Once normalized , we compute the percentils values. Our way to compute them handle more difficult cases such as when the indices are decimal. We simply weight each value around the exact computed index.\n",
    "Once here, since we already have PAA transformed data, we just need to get SAX translation."
   ]
  },
  {
   "cell_type": "code",
   "execution_count": 6,
   "metadata": {
    "collapsed": true
   },
   "outputs": [],
   "source": [
    "for i in xrange(SAX.shape[0]):\n",
    "    for j in xrange(SAX.shape[1]):\n",
    "        SAX[i][j] = alphabet[sindex(percentils[j],subwin_means[i][j])]"
   ]
  },
  {
   "cell_type": "markdown",
   "metadata": {},
   "source": [
    "Here we are using python's *bisect_left* built-in function which returns the index of where to put *subwin_mean* in *percentils* in $O(\\log(n))$. The index returned will correspond to the index of the chosen alphabet !\n",
    "\n",
    "And guess what ? We finally have initialized our algorithm ! But to be honnest, the most costly part of the algorithm is here.\n",
    "\n",
    "But what about the results ? Do we have an equivalent SAX if we compare to the first tutorial ?"
   ]
  },
  {
   "cell_type": "code",
   "execution_count": 7,
   "metadata": {
    "collapsed": false
   },
   "outputs": [
    {
     "name": "stdout",
     "output_type": "stream",
     "text": [
      "[[ 1.  1.]\n",
      " [ 5.  3.]\n",
      " [ 9.  4.]\n",
      " [ 7.  6.]\n",
      " [ 5.  8.]\n",
      " [ 5.  9.]\n",
      " [ 1.  2.]\n",
      " [ 0.  1.]\n",
      " [ 5.  5.]\n",
      " [ 6.  7.]]\n"
     ]
    }
   ],
   "source": [
    "print SAX"
   ]
  },
  {
   "cell_type": "markdown",
   "metadata": {},
   "source": [
    "What a relief ! We have exactly the same SAX transform here and in our other tutorial (the opposite would have been annoying).\n",
    "Yes nothing brand new so far ... But let assume that you now receive a new point for each time serie and you must add them in your data. Instead of just adding the point to the already existing data and perform an other __Static SAX__ we will use some tips such as removing the oldest point. As a matter of fact, you can't imagine to store all the incoming data and especially on a long time serie for each captured data. "
   ]
  },
  {
   "cell_type": "markdown",
   "metadata": {},
   "source": [
    "Let assume that we want first add one point to each time serie simultaneously."
   ]
  },
  {
   "cell_type": "code",
   "execution_count": 8,
   "metadata": {
    "collapsed": true
   },
   "outputs": [],
   "source": [
    "n_point = np.asarray([7.2, 3.8])"
   ]
  },
  {
   "cell_type": "markdown",
   "metadata": {},
   "source": [
    "Naturally, the first step is to update global parameters i.e the mean value and variance of the sliding window, just as percentils of the new distribution."
   ]
  },
  {
   "cell_type": "code",
   "execution_count": 9,
   "metadata": {
    "collapsed": false
   },
   "outputs": [
    {
     "name": "stdout",
     "output_type": "stream",
     "text": [
      "former mean :  [ 4.5445  3.97  ]\n",
      "former variance :  [ 5.73095475  5.83619   ]\n"
     ]
    }
   ],
   "source": [
    "print \"former mean : \", global_mean\n",
    "print \"former variance : \", global_variance"
   ]
  },
  {
   "cell_type": "code",
   "execution_count": 10,
   "metadata": {
    "collapsed": false
   },
   "outputs": [
    {
     "name": "stdout",
     "output_type": "stream",
     "text": [
      "new mean :  [ 4.8035  4.135 ]\n",
      "new variance :  [ 4.74183303  5.18631537]\n",
      "reality :  5.69780275\n"
     ]
    }
   ],
   "source": [
    "new_point = (n_point - global_mean) * 1./ np.sqrt(global_variance)\n",
    "removed_point = window[index_oldest]\n",
    "temp_mean = global_mean\n",
    "global_mean = temp_mean + (new_point - removed_point) * 1. * np.sqrt(global_variance) / window_size\n",
    "global_variance = global_variance + (new_point**2 -removed_point**2 - 2*temp_mean*(new_point - removed_point) - (new_point - removed_point)**2 * 1. / window_size) *1. /window_size \n",
    "\n",
    "print \"new mean : \", global_mean\n",
    "print \"new variance : \", global_variance\n",
    "print \"reality : \", (np.asarray([7.2, 2.33, 2.99, 6.85, 9.20, 8.80, 7.50, 6.00, 5.85, 3.85, 4.85, 3.85, 2.22, 1.45, 1.34, 1.42, 3.68, 5.65, 4.23, 6.81]).std())**2"
   ]
  },
  {
   "cell_type": "code",
   "execution_count": 25,
   "metadata": {
    "collapsed": false
   },
   "outputs": [
    {
     "name": "stdout",
     "output_type": "stream",
     "text": [
      "4.8035\n",
      "4.8035\n",
      "4.8035\n",
      "5.69780275\n",
      "8.66185438835\n"
     ]
    }
   ],
   "source": [
    "\n",
    "a = np.asarray([2.02, 2.33, 2.99, 6.85, 9.20, 8.80, 7.50, 6.00, 5.85, 3.85, 4.85, 3.85, 2.22, 1.45, 1.34, 1.42, 3.68, 5.65, 4.23, 6.81])\n",
    "a_moy = a.mean()\n",
    "a_var = a.var()\n",
    "a_std = a.std()\n",
    "a_norm = (a - a.mean())*1./a.std()\n",
    "a_nmoy = a_norm.mean()\n",
    "n = 7.2\n",
    "n_norm = (n - a.mean())*1./a.std()\n",
    "n_norm\n",
    "temp = a[0]\n",
    "temp_n = a_norm[0]\n",
    "a[0] = n\n",
    "a_norm[0] = n_norm\n",
    "print a.mean()\n",
    "print a_moy + (n - temp)*1./20\n",
    "print a_moy + (n_norm - temp_n)*1.*a_std/20\n",
    "print a.var()\n",
    "print a_var + ((n_norm**2 - temp_n**2 + 2*a_moy*(-temp_n + n_norm))*a_var - 2*a_moy*(n_norm - temp_n)*a_std - ((n_norm - temp_n) * a_var)**2 * 1./20)*1./20"
   ]
  }
 ],
 "metadata": {
  "kernelspec": {
   "display_name": "Python 2",
   "language": "python",
   "name": "python2"
  },
  "language_info": {
   "codemirror_mode": {
    "name": "ipython",
    "version": 2
   },
   "file_extension": ".py",
   "mimetype": "text/x-python",
   "name": "python",
   "nbconvert_exporter": "python",
   "pygments_lexer": "ipython2",
   "version": "2.7.12"
  }
 },
 "nbformat": 4,
 "nbformat_minor": 2
}
